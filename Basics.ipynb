{
 "cells": [
  {
   "cell_type": "markdown",
   "metadata": {
    "collapsed": true
   },
   "source": [
    "<h3>1. Atividade: Instruções</h3>\n",
    "<p>Comece adicionando um título e escrevendo um parágrafo em uma célula de remarcação, apresentando o projeto e o conjunto de dados. O título e a introdução são provisórios neste momento; portanto, não gaste muito tempo aqui - você pode voltar no final do seu trabalho para refiná-los.</p>\n",
    "<p>Leia o arquivo hacker_news.csv e coloque em uma lista de lista.<ul>\n",
    "<li>Atribuao resultado a variável de nome <b>hn</b></li>\n",
    "</ul>\n",
    "<p>Mostre as primeiras cinco linhas do hn</p>"
   ]
  },
  {
   "cell_type": "markdown",
   "metadata": {},
   "source": [
    "<p></p>"
   ]
  },
  {
   "cell_type": "code",
   "execution_count": 2,
   "metadata": {
    "collapsed": true
   },
   "outputs": [],
   "source": [
    "from csv import reader"
   ]
  },
  {
   "cell_type": "code",
   "execution_count": 3,
   "metadata": {
    "collapsed": false
   },
   "outputs": [
    {
     "data": {
      "text/plain": [
       "[['id', 'title', 'url', 'num_points', 'num_comments', 'author', 'created_at'],\n",
       " ['12224879',\n",
       "  'Interactive Dynamic Video',\n",
       "  'http://www.interactivedynamicvideo.com/',\n",
       "  '386',\n",
       "  '52',\n",
       "  'ne0phyte',\n",
       "  '8/4/2016 11:52'],\n",
       " ['10975351',\n",
       "  'How to Use Open Source and Shut the Fuck Up at the Same Time',\n",
       "  'http://hueniverse.com/2016/01/26/how-to-use-open-source-and-shut-the-fuck-up-at-the-same-time/',\n",
       "  '39',\n",
       "  '10',\n",
       "  'josep2',\n",
       "  '1/26/2016 19:30'],\n",
       " ['11964716',\n",
       "  \"Florida DJs May Face Felony for April Fools' Water Joke\",\n",
       "  'http://www.thewire.com/entertainment/2013/04/florida-djs-april-fools-water-joke/63798/',\n",
       "  '2',\n",
       "  '1',\n",
       "  'vezycash',\n",
       "  '6/23/2016 22:20'],\n",
       " ['11919867',\n",
       "  'Technology ventures: From Idea to Enterprise',\n",
       "  'https://www.amazon.com/Technology-Ventures-Enterprise-Thomas-Byers/dp/0073523429',\n",
       "  '3',\n",
       "  '1',\n",
       "  'hswarna',\n",
       "  '6/17/2016 0:01']]"
      ]
     },
     "execution_count": 3,
     "metadata": {},
     "output_type": "execute_result"
    }
   ],
   "source": [
    "opened_file = open('hacker_news.csv')\n",
    "read_file = reader(opened_file)\n",
    "hn = list(read_file)\n",
    "hn[0:5]"
   ]
  },
  {
   "cell_type": "markdown",
   "metadata": {},
   "source": [
    "<h3>2. Atividade: Instruções</h3>\n",
    "<p>Extrai a primeira linha do data, e atribua a uma variavel chamada <b>headers</b>.</p>\n",
    "<p>Remova a primeira linha do <b>hn</b>.</p>\n",
    "<p>Mostre o <b>headers</b>.</p>\n",
    "<p>Mostre as cinco primeiras linhas do hn para verificar se removeu da forma certa o header.</p>"
   ]
  },
  {
   "cell_type": "code",
   "execution_count": 4,
   "metadata": {
    "collapsed": false
   },
   "outputs": [
    {
     "data": {
      "text/plain": [
       "['id', 'title', 'url', 'num_points', 'num_comments', 'author', 'created_at']"
      ]
     },
     "execution_count": 4,
     "metadata": {},
     "output_type": "execute_result"
    }
   ],
   "source": [
    "headers = hn[0]\n",
    "headers"
   ]
  },
  {
   "cell_type": "code",
   "execution_count": 5,
   "metadata": {
    "collapsed": false
   },
   "outputs": [
    {
     "data": {
      "text/plain": [
       "[['12224879',\n",
       "  'Interactive Dynamic Video',\n",
       "  'http://www.interactivedynamicvideo.com/',\n",
       "  '386',\n",
       "  '52',\n",
       "  'ne0phyte',\n",
       "  '8/4/2016 11:52'],\n",
       " ['10975351',\n",
       "  'How to Use Open Source and Shut the Fuck Up at the Same Time',\n",
       "  'http://hueniverse.com/2016/01/26/how-to-use-open-source-and-shut-the-fuck-up-at-the-same-time/',\n",
       "  '39',\n",
       "  '10',\n",
       "  'josep2',\n",
       "  '1/26/2016 19:30'],\n",
       " ['11964716',\n",
       "  \"Florida DJs May Face Felony for April Fools' Water Joke\",\n",
       "  'http://www.thewire.com/entertainment/2013/04/florida-djs-april-fools-water-joke/63798/',\n",
       "  '2',\n",
       "  '1',\n",
       "  'vezycash',\n",
       "  '6/23/2016 22:20'],\n",
       " ['11919867',\n",
       "  'Technology ventures: From Idea to Enterprise',\n",
       "  'https://www.amazon.com/Technology-Ventures-Enterprise-Thomas-Byers/dp/0073523429',\n",
       "  '3',\n",
       "  '1',\n",
       "  'hswarna',\n",
       "  '6/17/2016 0:01'],\n",
       " ['10301696',\n",
       "  'Note by Note: The Making of Steinway L1037 (2007)',\n",
       "  'http://www.nytimes.com/2007/11/07/movies/07stein.html?_r=0',\n",
       "  '8',\n",
       "  '2',\n",
       "  'walterbell',\n",
       "  '9/30/2015 4:12']]"
      ]
     },
     "execution_count": 5,
     "metadata": {},
     "output_type": "execute_result"
    }
   ],
   "source": [
    "hn= hn[1:]\n",
    "hn[0:5]"
   ]
  },
  {
   "cell_type": "markdown",
   "metadata": {},
   "source": [
    "<h3>3. Atividade: Instruções</h3>\n",
    "<p>Crie 3 listas vazias e as chame de <b>ask_posts</b>, <b>show_posts</b>, e <b>other_posts</b>.</p>\n",
    "<p>Percorra cada linha do <b>hn</b>.</p>\n",
    "<ul>\n",
    "<li>Atribua o título em cada linha a uma variável chamada <b>title</b>.</li>\n",
    "<li><ul>\n",
    "<li>Considerando que o title é segunda coluna,é necessário pegar o elemento do index 1 em cada linha.</li>\n",
    "</ul></li>\n",
    "</ul>\n",
    "<p>Implementa os seguintes passos:</p>\n",
    "<ul>\n",
    "<li>Se a versão em minúscula do <b>title</b> começar com <b>ask hn</b>, anexe a linha a <b>ask_posts</b>. </li>\n",
    "<li>Se não a versão minúscula do <b>title</b> começar com <b>show hn</b>, adicione a linha ao <b>show_posts</b>.</li>\n",
    "<li>Se não adicione a linha ao <b>other_posts</b>.</li>\n",
    "</ul>\n",
    "<p>Verifique o número de postes em cada lista: <b>ask_posts</b>, <b>show_posts</b>, e <b>other_posts</b>.</p>"
   ]
  },
  {
   "cell_type": "code",
   "execution_count": 6,
   "metadata": {
    "collapsed": false
   },
   "outputs": [],
   "source": [
    "ask_posts = []\n",
    "show_posts = []\n",
    "other_posts = []\n",
    "for row in hn:\n",
    "    title = row[1].lower()   \n",
    "    if title.lower().startswith('ask hn'):\n",
    "        ask_posts.append(row)\n",
    "    elif title.lower().startswith('show hn'):\n",
    "        show_posts.append(row)\n",
    "    else:\n",
    "        other_posts.append(row)"
   ]
  },
  {
   "cell_type": "code",
   "execution_count": 7,
   "metadata": {
    "collapsed": false
   },
   "outputs": [
    {
     "name": "stdout",
     "output_type": "stream",
     "text": [
      "Quantidade de ASK HN:  1744\n",
      "Quantidade de SHOW HN:  1162\n",
      "Quantidade de OTHER POSTS:  17194\n",
      "Quantidade do HN:  20100\n"
     ]
    }
   ],
   "source": [
    "print(\"Quantidade de ASK HN: \",len(ask_posts))\n",
    "print(\"Quantidade de SHOW HN: \",len(show_posts))\n",
    "print(\"Quantidade de OTHER POSTS: \",len(other_posts))\n",
    "print(\"Quantidade do HN: \",len(hn))"
   ]
  },
  {
   "cell_type": "markdown",
   "metadata": {},
   "source": [
    "<h3>4. Atividade: Instruções</h3>\n",
    "<p>Encontre o número total de comentários do ask posts e atribua-o a <b>total_ask_comments</b>.</p>\n",
    "<ul>\n",
    "<li>Defina <b>total_ask_comments</b> como 0.</li>\n",
    "</ul>\n",
    "<p>Use o for para percorrer ask posts.</p>\n",
    "<dl>\n",
    "<dt>Considerando que o <u>num_comments</u> é quinta coluna do <u>ask_posts</u>,é necessário pegar o elemento do index 4 em cada linha.</dt>\n",
    "<dd>É necessário converter os valores em integer para poder calcular a soma de todos os comentários.</dd>\n",
    "<dd>E adicione o valor ao <b>total_ask_comments</b>.</dd>\n",
    "</dl>\n",
    "<p>Calcule a média do número dos comentários do ask posts e atribua a variável<b>avg_ask_comments</b>.</p>\n",
    "<p>Imprima a variável<b>avg_ask_comments</b>.</p>\n",
    "\n",
    "\n",
    "<p>Encontre o número total de comentários do show posts e atribua-o a <b>total_show_comments</b>.</p>\n",
    "<ul>\n",
    "<li>Defina <b>total_show_comments</b> como 0.</li>\n",
    "</ul>\n",
    "<p>Use o for para percorrer show posts.</p>\n",
    "<dl>\n",
    "<dt>Considerando que o <u>num_comments</u> é quinta coluna do <u>show_posts</u>,é necessário pegar o elemento do index 4 em cada linha.</dt>\n",
    "<dd>É necessário converter os valores em integer para poder calcular a soma de todos os comentários.</dd>\n",
    "<dd>E adicione o valor ao <b>total_show_comments</b>.</dd>\n",
    "</dl>\n",
    "<p>Calcule a média do número dos comentários do show posts e atribua a variável<b>avg_show_comments</b>.</p>\n",
    "<p>Imprima a variável<b>avg_show_comments</b>.</p>\n",
    "<p>O show posts ou o ask posts recebe em média mais comentários?Escreva no markdown cell explicado suas descobertas.</p>"
   ]
  },
  {
   "cell_type": "code",
   "execution_count": 8,
   "metadata": {
    "collapsed": false
   },
   "outputs": [
    {
     "name": "stdout",
     "output_type": "stream",
     "text": [
      "A média dos comentários do ASK HN: 14.04\n"
     ]
    }
   ],
   "source": [
    "total_ask_comments = 0\n",
    "for row in ask_posts:\n",
    "    num_comments = int(row[4])\n",
    "    total_ask_comments+=num_comments\n",
    "avg_ask_comments = total_ask_comments/len(ask_posts)\n",
    "print(\"A média dos comentários do ASK HN:\",round(avg_ask_comments,2))"
   ]
  },
  {
   "cell_type": "code",
   "execution_count": 9,
   "metadata": {
    "collapsed": false
   },
   "outputs": [
    {
     "name": "stdout",
     "output_type": "stream",
     "text": [
      "A média dos comentários do SHOW HN: 10.32\n"
     ]
    }
   ],
   "source": [
    "total_show_comments = 0\n",
    "for row in show_posts:\n",
    "    num_comments = int(row[4])\n",
    "    total_show_comments+=num_comments\n",
    "avg_show_comments = total_show_comments/len(show_posts)\n",
    "print(\"A média dos comentários do SHOW HN:\",round(avg_show_comments,2))"
   ]
  },
  {
   "cell_type": "markdown",
   "metadata": {},
   "source": [
    "<p> Em média o Ask posts tem mais comentários que o Show posts como mostrado acima.</p>"
   ]
  },
  {
   "cell_type": "markdown",
   "metadata": {},
   "source": [
    "<h3>5. Atividade: Instruções</h3>\n",
    "<p>Importe o módulo datetime como dt</p>\n",
    "<p>Crie uma lista vázia e chama de <b>result_list</b>. Esta é uma lista de lista. </p>\n",
    "<p>Percorra o <b>ask_posts</b> e adicione ao <b>result_list</b> a lista com dois elementos: </p>\n",
    "<dl>\n",
    "<dt>O primeiro elemento deverá ser a coluna <u>created_at.</u></dt>\n",
    "<dd>Considerando que o <b>created_at</b> é a setima coluna do <b>ask_posts</b>,é necessário pegar o elemento do indes 6 de cada linha.</dd>\n",
    "<dt>O segundo elemento deverá ser o número de comentários do post.</dt>\n",
    "<dd>É necessário converter o valor em interger.</dd>\n",
    "</dl>\n",
    "<p>Criar dois dicionários vazios chamados <b>counts_by_hour</b> e <b>comments_by_hour</b>.</p>\n",
    "<p>Percorra cada linha do <b>result_list</b>.</p>\n",
    "<p>Extraia a hora da data,que é o primeiro elemento da linha. </p>\n",
    "<p>Use o método <b>datetime.strptime()</b> e crie um objeto datetime.</p>\n",
    "<p>Use o string que analisamos com primeiro argumento e string especifica o formato como o segundo argumento.</p>\n",
    "<dl>\n",
    "<dt>Use o método <u>datetime.strftime()</u>para selecionar apenas a hora do objeto datetime.</dt>\n",
    "<dt>Se a hora não é um chave <u>counts_by_hour</u>:</dt>\n",
    "<dd>Crie uma chave no <b>counts_by_hour</b> e coloque igual a 1.</dd>\n",
    "<dd>Crie uma chave no <b>comments_by_hour</b> e coloque igual ao número do <b>comment</b>.</dd>\n",
    "<dt>Se a hora já é uma chave no <u>counts_by_hour</u>:</dt>\n",
    "<dd>Incremente o valor do <b>counts_by_hour</b> com 1.</dd>\n",
    "<dd>Icremente o valor do <b>comments_by_hour</b> com o número do <b>comment</b>.</dd>\n",
    "</dl>"
   ]
  },
  {
   "cell_type": "code",
   "execution_count": 10,
   "metadata": {
    "collapsed": true
   },
   "outputs": [],
   "source": [
    "import datetime as dt"
   ]
  },
  {
   "cell_type": "code",
   "execution_count": 11,
   "metadata": {
    "collapsed": false
   },
   "outputs": [
    {
     "name": "stdout",
     "output_type": "stream",
     "text": [
      "['8/16/2016 9:55', 6]\n"
     ]
    }
   ],
   "source": [
    "result_list=[]\n",
    "for row in ask_posts:\n",
    "    created_at = row[6]\n",
    "    num_comments = int(row[4])\n",
    "    result_list.append([created_at,num_comments])\n",
    "print(result_list[0])"
   ]
  },
  {
   "cell_type": "code",
   "execution_count": 12,
   "metadata": {
    "collapsed": false
   },
   "outputs": [],
   "source": [
    "counts_by_hour = {}\n",
    "comments_by_hour = {}\n",
    "date_format = \"%m/%d/%Y %H:%M\"\n",
    "for row in result_list:\n",
    "    date = row[0]\n",
    "    date_str = dt.datetime.strptime(date,date_format)\n",
    "    hour_str = date_str.strftime(\"%H\")\n",
    "    comments = row[1]\n",
    "    if hour_str not in counts_by_hour:\n",
    "        counts_by_hour[hour_str] = 1\n",
    "        comments_by_hour[hour_str] = comments\n",
    "    elif hour_str in counts_by_hour:\n",
    "        counts_by_hour[hour_str] += 1\n",
    "        comments_by_hour[hour_str] += comments\n"
   ]
  },
  {
   "cell_type": "code",
   "execution_count": 13,
   "metadata": {
    "collapsed": false
   },
   "outputs": [
    {
     "name": "stdout",
     "output_type": "stream",
     "text": [
      "{'12': 73, '04': 47, '18': 109, '22': 71, '10': 59, '06': 44, '15': 116, '02': 58, '23': 68, '19': 110, '21': 109, '16': 108, '05': 46, '01': 60, '13': 85, '20': 80, '07': 34, '17': 100, '03': 54, '00': 55, '11': 58, '08': 48, '09': 45, '14': 107}\n"
     ]
    }
   ],
   "source": [
    "print(counts_by_hour)"
   ]
  },
  {
   "cell_type": "code",
   "execution_count": 14,
   "metadata": {
    "collapsed": false
   },
   "outputs": [
    {
     "name": "stdout",
     "output_type": "stream",
     "text": [
      "{'12': 687, '04': 337, '18': 1439, '22': 479, '10': 793, '06': 397, '15': 4477, '02': 1381, '23': 543, '19': 1188, '21': 1745, '16': 1814, '05': 464, '01': 683, '13': 1253, '20': 1722, '07': 267, '17': 1146, '03': 421, '00': 447, '11': 641, '08': 492, '09': 251, '14': 1416}\n"
     ]
    }
   ],
   "source": [
    "print(comments_by_hour)"
   ]
  },
  {
   "cell_type": "markdown",
   "metadata": {},
   "source": [
    "<h3>6. Atividade: Instruções</h3>\n",
    "<p>Use o exemplo acima para calcular o número médio de comentários por postagem para postagens criadas durante cada hora do dia.</p>\n",
    "<p>O resultado deve ser uma lista de listas nas quais o primeiro elemento é a hora e o segundo elemento é o número médio de comentários por postagem. Atribua o resultado a uma variável chamada <b>avg_by_hour</b>. Exiba os resultados.</p>\n"
   ]
  },
  {
   "cell_type": "code",
   "execution_count": 17,
   "metadata": {
    "collapsed": false
   },
   "outputs": [
    {
     "name": "stdout",
     "output_type": "stream",
     "text": [
      "[['12', 9.41095890410959], ['04', 7.170212765957447], ['18', 13.20183486238532], ['22', 6.746478873239437], ['10', 13.440677966101696], ['06', 9.022727272727273], ['15', 38.5948275862069], ['02', 23.810344827586206], ['23', 7.985294117647059], ['19', 10.8], ['21', 16.009174311926607], ['16', 16.796296296296298], ['05', 10.08695652173913], ['01', 11.383333333333333], ['13', 14.741176470588234], ['20', 21.525], ['07', 7.852941176470588], ['17', 11.46], ['03', 7.796296296296297], ['00', 8.127272727272727], ['11', 11.051724137931034], ['08', 10.25], ['09', 5.5777777777777775], ['14', 13.233644859813085]]\n"
     ]
    }
   ],
   "source": [
    "avg_by_hour = []\n",
    "\n",
    "for comments in comments_by_hour:\n",
    "    avg_by_hour.append([comments,(comments_by_hour[comments]/counts_by_hour[comments])])\n",
    "print(avg_by_hour)"
   ]
  },
  {
   "cell_type": "markdown",
   "metadata": {
    "collapsed": true
   },
   "source": [
    "<h3>7. Atividade: Instruções</h3>\n",
    "<p>Crie uma lista que seja igual a <b>avg_by_hour</b> com colunas trocadas.</p>\n",
    "<ul>\n",
    "<li>Crie uma lista vazia e atribua-a a <b>swap_avg_by_hour.</b></li>\n",
    "<li>Percorra as linhas de <b>avg_by_hour</b> e anexe a <b>swap_avg_by_hour.</b> cujo primeiro elemento seja o segundo elemento do <b>avg_by_hour</b> e segundo elemento seja o primeiro elemento do <b>avg_by_hour</b>.</li>\n",
    "</ul>\n",
    "<p>Imprima o <b>swap_avg_by_hour.</b>.</p>\n",
    "<p>Use a função <b>sorted</b> para ordernar de forma descrecente o <b>swap_avg_by_hour</b>.Como a primeira coluna desta lista é o número médio de comentários, a classificação será ordenada pelo número médio de comentários.</p>\n",
    "<ul>\n",
    "<li>Defina o argumento <b>reverse</b> como <b>True</b>, para que o valor mais alto na seja o primeiro aparecer na lista.</li>\n",
    "<li>Atribua o resultado a variavel<b>sorted_swap</b></li>\n",
    "</ul>\n",
    "<p>Imprima s string \"Top 5 Hours for Ask Posts Comments\".</p>\n",
    "<p>Faça um loop em cada média e a cada hora (nesta ordem) nas cinco primeiras listas de <b>sorted_swap</b>.</p>\n",
    "<p>Use o método srt.format() para imprimir as horas e as médias da seguinte forma: <b>15:00: 38.59 average comments per post.</b></p>\n",
    "<ul>\n",
    "<li>Para formatar as horas, use o construtor <b>datetime.strptime()</b> para retornar um objeto datetime e, em seguida, use o método <b>strftime()</b> para especificar o formato da hora.</li>\n",
    "<li>Para formatar a média, você pode usar <b>{: .2f}</b> para indicar que apenas duas casas decimais devem ser usadas.</li>\n",
    "</ul>\n",
    "<p>Em que horas você deve criar uma postagem para ter uma chance maior de receber comentários? Consulte a documentação do conjunto de dados para converter os horários no fuso horário em que você vive. Escreva uma célula de marcação explicando suas descobertas.</p>"
   ]
  },
  {
   "cell_type": "code",
   "execution_count": 18,
   "metadata": {
    "collapsed": false
   },
   "outputs": [
    {
     "name": "stdout",
     "output_type": "stream",
     "text": [
      "[[9.41095890410959, '12'], [7.170212765957447, '04'], [13.20183486238532, '18'], [6.746478873239437, '22'], [13.440677966101696, '10'], [9.022727272727273, '06'], [38.5948275862069, '15'], [23.810344827586206, '02'], [7.985294117647059, '23'], [10.8, '19'], [16.009174311926607, '21'], [16.796296296296298, '16'], [10.08695652173913, '05'], [11.383333333333333, '01'], [14.741176470588234, '13'], [21.525, '20'], [7.852941176470588, '07'], [11.46, '17'], [7.796296296296297, '03'], [8.127272727272727, '00'], [11.051724137931034, '11'], [10.25, '08'], [5.5777777777777775, '09'], [13.233644859813085, '14']]\n"
     ]
    }
   ],
   "source": [
    "swap_avg_by_hour = []\n",
    "for row in avg_by_hour:\n",
    "    swap_avg_by_hour.append([row[1],row[0]])\n",
    "print(swap_avg_by_hour) "
   ]
  },
  {
   "cell_type": "code",
   "execution_count": 21,
   "metadata": {
    "collapsed": false
   },
   "outputs": [
    {
     "name": "stdout",
     "output_type": "stream",
     "text": [
      "[[38.5948275862069, '15'], [23.810344827586206, '02'], [21.525, '20'], [16.796296296296298, '16'], [16.009174311926607, '21'], [14.741176470588234, '13'], [13.440677966101696, '10'], [13.233644859813085, '14'], [13.20183486238532, '18'], [11.46, '17'], [11.383333333333333, '01'], [11.051724137931034, '11'], [10.8, '19'], [10.25, '08'], [10.08695652173913, '05'], [9.41095890410959, '12'], [9.022727272727273, '06'], [8.127272727272727, '00'], [7.985294117647059, '23'], [7.852941176470588, '07'], [7.796296296296297, '03'], [7.170212765957447, '04'], [6.746478873239437, '22'], [5.5777777777777775, '09']]\n"
     ]
    }
   ],
   "source": [
    "sorted_swap = sorted(swap_avg_by_hour,reverse=True)\n",
    "print(sorted_swap)"
   ]
  },
  {
   "cell_type": "code",
   "execution_count": 23,
   "metadata": {
    "collapsed": false
   },
   "outputs": [
    {
     "name": "stdout",
     "output_type": "stream",
     "text": [
      "Top 5 Hours for Ask Posts Comments\n",
      "15:00: 38.59 average comments per post\n",
      "02:00: 23.81 average comments per post\n",
      "20:00: 21.52 average comments per post\n",
      "16:00: 16.80 average comments per post\n",
      "21:00: 16.01 average comments per post\n",
      "13:00: 14.74 average comments per post\n",
      "10:00: 13.44 average comments per post\n",
      "14:00: 13.23 average comments per post\n",
      "18:00: 13.20 average comments per post\n",
      "17:00: 11.46 average comments per post\n",
      "01:00: 11.38 average comments per post\n",
      "11:00: 11.05 average comments per post\n",
      "19:00: 10.80 average comments per post\n",
      "08:00: 10.25 average comments per post\n",
      "05:00: 10.09 average comments per post\n",
      "12:00: 9.41 average comments per post\n",
      "06:00: 9.02 average comments per post\n",
      "00:00: 8.13 average comments per post\n",
      "23:00: 7.99 average comments per post\n",
      "07:00: 7.85 average comments per post\n",
      "03:00: 7.80 average comments per post\n",
      "04:00: 7.17 average comments per post\n",
      "22:00: 6.75 average comments per post\n",
      "09:00: 5.58 average comments per post\n"
     ]
    }
   ],
   "source": [
    "print( \"Top 5 Hours for Ask Posts Comments\")\n",
    "hour_format = \"%H\"\n",
    "for row in sorted_swap:\n",
    "    hour = row[1]\n",
    "    por = row[0]\n",
    "    hour_dt = dt.datetime.strptime(hour,hour_format)\n",
    "    hour_str = hour_dt.strftime(\"%H:%M\")\n",
    "    print(\"{}: {:.2f} average comments per post\".format(hour_str,por))\n",
    "    "
   ]
  },
  {
   "cell_type": "markdown",
   "metadata": {},
   "source": [
    "<p>Os melhores horários para se criar um post no Hacker News 15:00, 02:00, 20:00, 16:00, 21:00 são horários do .</p>\n",
    "<table border=\"1\">\n",
    "<tr>\n",
    "<th>Fuso Horário do Leste dos EUA</th>\n",
    "<th>Fuso Horário de São Paulos</th>\n",
    "</tr>\n",
    "<tr>\n",
    "<td>15:00</td>\n",
    "<td>16:00</td>\n",
    "</tr>\n",
    "<tr>\n",
    "<td>02:00</td>\n",
    "<td>03:00</td>\n",
    "</tr>\n",
    "<tr>\n",
    "<td>20:00</td>\n",
    "<td>21:00</td>\n",
    "</tr>\n",
    "<tr>\n",
    "<td>16:00</td>\n",
    "<td>17:00</td>\n",
    "</tr>\n",
    "<tr>\n",
    "<td>21:00 </td>\n",
    "<td>22:00</td>\n",
    "</tr>\n",
    "</table>"
   ]
  },
  {
   "cell_type": "code",
   "execution_count": null,
   "metadata": {
    "collapsed": true
   },
   "outputs": [],
   "source": []
  }
 ],
 "metadata": {
  "kernelspec": {
   "display_name": "Python 3",
   "language": "python",
   "name": "python3"
  },
  "language_info": {
   "codemirror_mode": {
    "name": "ipython",
    "version": 3
   },
   "file_extension": ".py",
   "mimetype": "text/x-python",
   "name": "python",
   "nbconvert_exporter": "python",
   "pygments_lexer": "ipython3",
   "version": "3.4.3"
  }
 },
 "nbformat": 4,
 "nbformat_minor": 2
}
